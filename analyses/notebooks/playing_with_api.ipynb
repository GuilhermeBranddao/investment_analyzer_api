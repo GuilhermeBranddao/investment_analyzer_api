{
 "cells": [
  {
   "cell_type": "code",
   "execution_count": 2,
   "id": "8dd9d7c9",
   "metadata": {},
   "outputs": [
    {
     "name": "stdout",
     "output_type": "stream",
     "text": [
      "Diretório de trabalho configurado para: g:\\py_projects\\investment_analyzer_api\n"
     ]
    }
   ],
   "source": [
    "import os\n",
    "from pathlib import Path\n",
    "\n",
    "def find_project_root(max_levels=5):\n",
    "    \"\"\"\n",
    "    Encontra o diretório raiz do projeto procurando pela pasta .venv\n",
    "    \n",
    "    Args:\n",
    "        max_levels (int): Número máximo de níveis para subir na hierarquia\n",
    "    \n",
    "    Returns:\n",
    "        Path: Caminho do diretório raiz do projeto\n",
    "    \n",
    "    Raises:\n",
    "        RuntimeError: Se não encontrar o diretório raiz dentro do limite de níveis\n",
    "    \"\"\"\n",
    "    current = Path.cwd()\n",
    "    for _ in range(max_levels):\n",
    "        if (current / '.venv').exists():\n",
    "            return current\n",
    "        parent = current.parent\n",
    "        if parent == current:  # Chegou na raiz do sistema\n",
    "            break\n",
    "        current = parent\n",
    "    \n",
    "    raise RuntimeError(\n",
    "        f'Não foi possível encontrar o diretório raiz do projeto em {max_levels} níveis acima.'\n",
    "    )\n",
    "\n",
    "# Configura o diretório de trabalho para a raiz do projeto\n",
    "project_root = find_project_root()\n",
    "os.chdir(project_root)\n",
    "print(f'Diretório de trabalho configurado para: {project_root}')"
   ]
  },
  {
   "cell_type": "code",
   "execution_count": null,
   "id": "c0c9ed0d",
   "metadata": {},
   "outputs": [],
   "source": [
    "# Consultando o banco de dados Investment Manager\n",
    "\n",
    "# Neste notebook, vamos nos conectar ao banco de dados SQLite \"investment_manager.db\" e realizar consultas para análise dos dados."
   ]
  },
  {
   "cell_type": "code",
   "execution_count": 5,
   "id": "41184b32",
   "metadata": {},
   "outputs": [
    {
     "name": "stdout",
     "output_type": "stream",
     "text": [
      "Tabelas disponíveis no banco de dados:\n",
      "- status\n",
      "- country\n",
      "- transaction_types\n",
      "- users\n",
      "- market\n",
      "- assets\n",
      "- portfolio\n",
      "- asset_price_history\n",
      "- asset_transactions\n",
      "- alembic_version\n"
     ]
    }
   ],
   "source": [
    "import sqlite3\n",
    "import pandas as pd\n",
    "\n",
    "# Conectar ao banco de dados\n",
    "database = 'app/data/database/investment_manager.db'\n",
    "conn = sqlite3.connect(database)\n",
    "cursor = conn.cursor()\n",
    "\n",
    "# Verificar as tabelas disponíveis no banco de dados\n",
    "cursor.execute(\"SELECT name FROM sqlite_master WHERE type='table';\")\n",
    "tables = cursor.fetchall()\n",
    "\n",
    "print(\"Tabelas disponíveis no banco de dados:\")\n",
    "for table in tables:\n",
    "    print(f\"- {table[0]}\")"
   ]
  },
  {
   "cell_type": "code",
   "execution_count": 5,
   "id": "12497426",
   "metadata": {},
   "outputs": [],
   "source": [
    "# Obter o preço historico por ativo assim como o yf.donload\n",
    "import pandas as pd\n",
    "df_acoes_b3 = pd.read_csv(\"app/data/acoes-listadas-b3.csv\")\n",
    "df_acoes_b3[\"Ticker\"] = df_acoes_b3[\"Ticker\"].apply(lambda x: f\"{x}.SA\")\n",
    "# set(df_acoes_b3[\"Ticker\"])\n",
    "\n",
    "\n",
    "df_acoes_b3.to_csv(\"app/data/list_assets.csv\")"
   ]
  },
  {
   "cell_type": "code",
   "execution_count": null,
   "id": "82e510a7",
   "metadata": {},
   "outputs": [
    {
     "name": "stdout",
     "output_type": "stream",
     "text": [
      "ID do ativo: 4\n",
      "(64, '2025-09-29 00:00:00.000000', 7.150000095367432, 7.269999980926514, 7.110000133514404, 7.210000038146973, 942800, 0.0, 0.0, 4)\n",
      "(65, '2025-09-30 00:00:00.000000', 7.230000019073486, 7.28000020980835, 7.139999866485596, 7.25, 1094900, 0.0, 0.0, 4)\n",
      "(66, '2025-10-01 00:00:00.000000', 7.239999771118164, 7.25, 7.110000133514404, 7.130000114440918, 788300, 0.0, 0.0, 4)\n",
      "(67, '2025-10-02 00:00:00.000000', 7.130000114440918, 7.139999866485596, 6.949999809265137, 7.010000228881836, 1182700, 0.0, 0.0, 4)\n",
      "(68, '2025-10-03 00:00:00.000000', 6.980000019073486, 7.059999942779541, 6.980000019073486, 7.010000228881836, 1057800, 0.0, 0.0, 4)\n",
      "(69, '2025-10-06 00:00:00.000000', 6.989999771118164, 7.110000133514404, 6.940000057220459, 7.070000171661377, 1227600, 0.0, 0.0, 4)\n",
      "(70, '2025-10-07 00:00:00.000000', 7.070000171661377, 7.070000171661377, 6.800000190734863, 6.809999942779541, 990400, 0.0, 0.0, 4)\n",
      "(71, '2025-10-08 00:00:00.000000', 6.820000171661377, 6.869999885559082, 6.71999979019165, 6.760000228881836, 1050600, 0.0, 0.0, 4)\n",
      "(72, '2025-10-09 00:00:00.000000', 6.769999980926514, 6.829999923706055, 6.75, 6.820000171661377, 827000, 0.0, 0.0, 4)\n",
      "(73, '2025-10-10 00:00:00.000000', 6.849999904632568, 6.880000114440918, 6.769999980926514, 6.829999923706055, 832900, 0.0, 0.0, 4)\n",
      "(74, '2025-10-13 00:00:00.000000', 6.849999904632568, 6.980000019073486, 6.849999904632568, 6.920000076293945, 1325200, 0.0, 0.0, 4)\n",
      "(75, '2025-10-14 00:00:00.000000', 6.929999828338623, 7.090000152587891, 6.909999847412109, 7.019999980926514, 1037100, 0.0, 0.0, 4)\n",
      "(76, '2025-10-15 00:00:00.000000', 7.010000228881836, 7.099999904632568, 6.940000057220459, 7.079999923706055, 2003800, 0.0, 0.0, 4)\n",
      "(77, '2025-10-16 00:00:00.000000', 7.079999923706055, 7.159999847412109, 7.03000020980835, 7.079999923706055, 911800, 0.0, 0.0, 4)\n",
      "(78, '2025-10-17 00:00:00.000000', 7.070000171661377, 7.070000171661377, 6.960000038146973, 7.019999980926514, 826600, 0.0, 0.0, 4)\n",
      "(79, '2025-10-20 00:00:00.000000', 6.989999771118164, 7.039999961853027, 6.940000057220459, 7.039999961853027, 1736800, 0.0, 0.0, 4)\n",
      "(80, '2025-10-21 00:00:00.000000', 7.050000190734863, 7.070000171661377, 6.96999979019165, 7.019999980926514, 922200, 0.0, 0.0, 4)\n",
      "(81, '2025-10-22 00:00:00.000000', 7.019999980926514, 7.019999980926514, 6.710000038146973, 6.730000019073486, 2767600, 0.0, 0.0, 4)\n",
      "(82, '2025-10-23 00:00:00.000000', 6.71999979019165, 6.820000171661377, 6.650000095367432, 6.670000076293945, 1398700, 0.0, 0.0, 4)\n",
      "(83, '2025-10-24 00:00:00.000000', 6.659999847412109, 6.800000190734863, 6.659999847412109, 6.789999961853027, 1977700, 0.0, 0.0, 4)\n",
      "(84, '2025-10-27 00:00:00.000000', 6.800000190734863, 6.840000152587891, 6.639999866485596, 6.650000095367432, 1537800, 0.0, 0.0, 4)\n"
     ]
    }
   ],
   "source": [
    "import sqlite3\n",
    "\n",
    "# Caminho do banco\n",
    "DB_PATH = \"app/data/database/investment_manager.db\"\n",
    "\n",
    "# Conecta ao banco\n",
    "conn = sqlite3.connect(DB_PATH)\n",
    "cursor = conn.cursor()\n",
    "\n",
    "# 1️⃣ Busca o ID do ativo pelo símbolo\n",
    "def asset_history(symbol, conn):\n",
    "    cursor.execute(\"SELECT id FROM assets WHERE symbol = ?\", (symbol,))\n",
    "    row = cursor.fetchone()\n",
    "    if row:\n",
    "        asset_id = row[0]\n",
    "        print(f\"ID do ativo: {asset_id}\")\n",
    "        # 2️⃣ Busca histórico de preços usando o ID\n",
    "        cursor.execute(\"SELECT * FROM asset_price_history WHERE asset_id = ?\", (asset_id,))\n",
    "        price_history = cursor.fetchall()\n",
    "        for line in price_history:\n",
    "            print(line)\n",
    "    else:\n",
    "        print(\"Ativo não encontrado.\")\n",
    "    conn.close()\n",
    "\n",
    "symbol = \"SAPR4.SA\"  # exemplo\n",
    "\n",
    "asset_history(symbol, conn=conn)"
   ]
  },
  {
   "cell_type": "code",
   "execution_count": null,
   "id": "de9d1922",
   "metadata": {},
   "outputs": [
    {
     "ename": "OperationalError",
     "evalue": "near \".\": syntax error",
     "output_type": "error",
     "traceback": [
      "\u001b[31m---------------------------------------------------------------------------\u001b[39m",
      "\u001b[31mOperationalError\u001b[39m                          Traceback (most recent call last)",
      "\u001b[36mCell\u001b[39m\u001b[36m \u001b[39m\u001b[32mIn[4]\u001b[39m\u001b[32m, line 3\u001b[39m\n\u001b[32m      1\u001b[39m table_name = \u001b[33m\"\u001b[39m\u001b[33mSAPR4.SA\u001b[39m\u001b[33m\"\u001b[39m\n\u001b[32m      2\u001b[39m \u001b[33;03m\"\"\"Retorna informações sobre as colunas de uma tabela específica.\"\"\"\u001b[39;00m\n\u001b[32m----> \u001b[39m\u001b[32m3\u001b[39m \u001b[43mcursor\u001b[49m\u001b[43m.\u001b[49m\u001b[43mexecute\u001b[49m\u001b[43m(\u001b[49m\u001b[33;43mf\u001b[39;49m\u001b[33;43m\"\u001b[39;49m\u001b[33;43mPRAGMA table_info(\u001b[39;49m\u001b[38;5;132;43;01m{\u001b[39;49;00m\u001b[43mtable_name\u001b[49m\u001b[38;5;132;43;01m}\u001b[39;49;00m\u001b[33;43m);\u001b[39;49m\u001b[33;43m\"\u001b[39;49m\u001b[43m)\u001b[49m\n\u001b[32m      4\u001b[39m columns = cursor.fetchall()\n",
      "\u001b[31mOperationalError\u001b[39m: near \".\": syntax error"
     ]
    }
   ],
   "source": [
    "symbol = \"SAPR4.SA\"\n",
    "\n",
    "import sqlite3\n",
    "\n",
    "# Conecta (ou cria se não existir)\n",
    "conn = sqlite3.connect(database)\n",
    "\n",
    "# Cria um cursor para executar comandos SQL\n",
    "cur = conn.cursor()\n",
    "\n",
    "# Cria uma tabela\n",
    "cur.execute(\"\"\"\n",
    "CREATE TABLE IF NOT EXISTS usuarios (\n",
    "    id INTEGER PRIMARY KEY AUTOINCREMENT,\n",
    "    nome TEXT NOT NULL,\n",
    "    idade INTEGER\n",
    ")\n",
    "\"\"\")\n",
    "\n",
    "# Insere dados\n",
    "cur.execute(\"INSERT INTO usuarios (nome, idade) VALUES (?, ?)\", (\"Guilherme\", 26))\n",
    "conn.commit()\n",
    "\n",
    "# Consulta os dados\n",
    "cur.execute(\"SELECT * FROM usuarios\")\n",
    "for linha in cur.fetchall():\n",
    "    print(linha)\n",
    "\n",
    "# Fecha a conexão\n",
    "conn.close()\n"
   ]
  },
  {
   "cell_type": "code",
   "execution_count": null,
   "id": "38f2a5e6",
   "metadata": {},
   "outputs": [],
   "source": []
  },
  {
   "cell_type": "code",
   "execution_count": null,
   "id": "bd4ca3a0",
   "metadata": {},
   "outputs": [],
   "source": [
    "def get_table_info(table_name):\n",
    "    \"\"\"Retorna informações sobre as colunas de uma tabela específica.\"\"\"\n",
    "    cursor.execute(f\"PRAGMA table_info({table_name});\")\n",
    "    columns = cursor.fetchall()\n",
    "    \n",
    "    print(f\"\\nInformações da tabela '{table_name}':\")\n",
    "    for col in columns:\n",
    "        print(f\"- {col[1]} ({col[2]})\")\n",
    "\n",
    "def query_to_dataframe(query):\n",
    "    \"\"\"Executa uma consulta SQL e retorna os resultados em um DataFrame.\"\"\"\n",
    "    return pd.read_sql_query(query, conn)\n",
    "\n",
    "# Exemplo de uso: escolha uma tabela da lista anterior e visualize sua estrutura\n",
    "if tables:\n",
    "    get_table_info(tables[0][0])"
   ]
  },
  {
   "cell_type": "code",
   "execution_count": null,
   "id": "56d399cd",
   "metadata": {},
   "outputs": [],
   "source": []
  },
  {
   "cell_type": "code",
   "execution_count": null,
   "id": "5001c8b2",
   "metadata": {},
   "outputs": [],
   "source": []
  },
  {
   "cell_type": "code",
   "execution_count": null,
   "id": "bf2b36bf",
   "metadata": {},
   "outputs": [],
   "source": []
  }
 ],
 "metadata": {
  "kernelspec": {
   "display_name": ".venv",
   "language": "python",
   "name": "python3"
  },
  "language_info": {
   "codemirror_mode": {
    "name": "ipython",
    "version": 3
   },
   "file_extension": ".py",
   "mimetype": "text/x-python",
   "name": "python",
   "nbconvert_exporter": "python",
   "pygments_lexer": "ipython3",
   "version": "3.13.9"
  }
 },
 "nbformat": 4,
 "nbformat_minor": 5
}
